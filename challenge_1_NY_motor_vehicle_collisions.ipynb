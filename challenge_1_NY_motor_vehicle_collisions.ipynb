{
 "cells": [
  {
   "cell_type": "code",
   "execution_count": 1,
   "id": "8ec13782",
   "metadata": {},
   "outputs": [],
   "source": [
    "import pandas as pd\n",
    "import pandas_gbq\n",
    "from google.cloud import bigquery\n",
    "%load_ext google.cloud.bigquery\n",
    "\n",
    "# Set your default project here\n",
    "pandas_gbq.context.project = 'bigquery-public-data'\n",
    "pandas_gbq.context.dialect = 'standard'"
   ]
  },
  {
   "cell_type": "markdown",
   "id": "bb9e314b",
   "metadata": {},
   "source": [
    "# Load Data"
   ]
  },
  {
   "cell_type": "markdown",
   "id": "e058c96d",
   "metadata": {},
   "source": [
    "The BigQuery Python client library provides a magic command that allows you to run queries with minimal code.\n",
    "\n",
    "The BigQuery client library provides a cell magic, %%bigquery. The %%bigquery magic runs a SQL query and returns the results as a pandas `DataFrame`\n",
    "\n",
    "TODO:\n",
    "- [ ] Slide 1 - Executive Summary\n",
    "- [ ] Slide 2 - Brooklyn vs rest of NY, why is Brooklyn an issue?\n",
    "- [ ] Slide 3 - Focus on Brooklyn: main causes, day of accidents, correlation with weather\n",
    "- [ ] Slide 4 - Recommendations: Dashboard with live updates, campaign against distraction\n",
    "- [ ] Slide 5 - Technicalities and approach taken to analysis "
   ]
  },
  {
   "cell_type": "markdown",
   "id": "2975d899",
   "metadata": {},
   "source": [
    "## Slide 2 - Brooklyn vs rest of NY, why is Brooklyn an issue?"
   ]
  },
  {
   "cell_type": "code",
   "execution_count": 5,
   "id": "6de7e67c",
   "metadata": {},
   "outputs": [
    {
     "name": "stderr",
     "output_type": "stream",
     "text": [
      "Query complete after 0.01s: 100%|█████████████████████████████████████████████████████████████████████████████████████████████████████████████████████████████████████████████████████████| 2/2 [00:00<00:00, 222.82query/s]\n",
      "Downloading: 100%|████████████████████████████████████████████████████████████████████████████████████████████████████████████████████████████████████████████████████████████████| 12186/12186 [00:02<00:00, 4473.91rows/s]\n"
     ]
    }
   ],
   "source": [
    "%%bigquery injured_df\n",
    "#number of injured per day, by borough\n",
    "SELECT\n",
    "  date(timestamp) as date,\n",
    "  borough,\n",
    "  SUM(number_of_persons_injured) as tot_injured\n",
    "FROM\n",
    "  `bigquery-public-data.new_york.nypd_mv_collisions`\n",
    "GROUP BY\n",
    "  borough,\n",
    "  date(timestamp) "
   ]
  },
  {
   "cell_type": "code",
   "execution_count": 6,
   "id": "9dcb5a07",
   "metadata": {},
   "outputs": [
    {
     "data": {
      "text/html": [
       "<div>\n",
       "<style scoped>\n",
       "    .dataframe tbody tr th:only-of-type {\n",
       "        vertical-align: middle;\n",
       "    }\n",
       "\n",
       "    .dataframe tbody tr th {\n",
       "        vertical-align: top;\n",
       "    }\n",
       "\n",
       "    .dataframe thead th {\n",
       "        text-align: right;\n",
       "    }\n",
       "</style>\n",
       "<table border=\"1\" class=\"dataframe\">\n",
       "  <thead>\n",
       "    <tr style=\"text-align: right;\">\n",
       "      <th></th>\n",
       "      <th>date</th>\n",
       "      <th>borough</th>\n",
       "      <th>tot_injured</th>\n",
       "    </tr>\n",
       "  </thead>\n",
       "  <tbody>\n",
       "    <tr>\n",
       "      <th>0</th>\n",
       "      <td>2018-01-17</td>\n",
       "      <td>QUEENS</td>\n",
       "      <td>20</td>\n",
       "    </tr>\n",
       "    <tr>\n",
       "      <th>1</th>\n",
       "      <td>2015-05-08</td>\n",
       "      <td>MANHATTAN</td>\n",
       "      <td>29</td>\n",
       "    </tr>\n",
       "    <tr>\n",
       "      <th>2</th>\n",
       "      <td>2017-11-22</td>\n",
       "      <td>QUEENS</td>\n",
       "      <td>28</td>\n",
       "    </tr>\n",
       "    <tr>\n",
       "      <th>3</th>\n",
       "      <td>2017-12-05</td>\n",
       "      <td>BRONX</td>\n",
       "      <td>11</td>\n",
       "    </tr>\n",
       "    <tr>\n",
       "      <th>4</th>\n",
       "      <td>2017-11-03</td>\n",
       "      <td>BRONX</td>\n",
       "      <td>27</td>\n",
       "    </tr>\n",
       "    <tr>\n",
       "      <th>...</th>\n",
       "      <td>...</td>\n",
       "      <td>...</td>\n",
       "      <td>...</td>\n",
       "    </tr>\n",
       "    <tr>\n",
       "      <th>12181</th>\n",
       "      <td>2016-06-05</td>\n",
       "      <td>STATEN ISLAND</td>\n",
       "      <td>2</td>\n",
       "    </tr>\n",
       "    <tr>\n",
       "      <th>12182</th>\n",
       "      <td>2015-01-11</td>\n",
       "      <td>STATEN ISLAND</td>\n",
       "      <td>2</td>\n",
       "    </tr>\n",
       "    <tr>\n",
       "      <th>12183</th>\n",
       "      <td>2015-02-25</td>\n",
       "      <td>STATEN ISLAND</td>\n",
       "      <td>0</td>\n",
       "    </tr>\n",
       "    <tr>\n",
       "      <th>12184</th>\n",
       "      <td>2014-08-23</td>\n",
       "      <td>STATEN ISLAND</td>\n",
       "      <td>6</td>\n",
       "    </tr>\n",
       "    <tr>\n",
       "      <th>12185</th>\n",
       "      <td>2013-12-15</td>\n",
       "      <td>STATEN ISLAND</td>\n",
       "      <td>0</td>\n",
       "    </tr>\n",
       "  </tbody>\n",
       "</table>\n",
       "<p>12186 rows × 3 columns</p>\n",
       "</div>"
      ],
      "text/plain": [
       "             date        borough  tot_injured\n",
       "0      2018-01-17         QUEENS           20\n",
       "1      2015-05-08      MANHATTAN           29\n",
       "2      2017-11-22         QUEENS           28\n",
       "3      2017-12-05          BRONX           11\n",
       "4      2017-11-03          BRONX           27\n",
       "...           ...            ...          ...\n",
       "12181  2016-06-05  STATEN ISLAND            2\n",
       "12182  2015-01-11  STATEN ISLAND            2\n",
       "12183  2015-02-25  STATEN ISLAND            0\n",
       "12184  2014-08-23  STATEN ISLAND            6\n",
       "12185  2013-12-15  STATEN ISLAND            0\n",
       "\n",
       "[12186 rows x 3 columns]"
      ]
     },
     "execution_count": 6,
     "metadata": {},
     "output_type": "execute_result"
    }
   ],
   "source": [
    "injured_df"
   ]
  },
  {
   "cell_type": "code",
   "execution_count": 3,
   "id": "f21713bd",
   "metadata": {},
   "outputs": [],
   "source": [
    "#number of killed per day, by borough"
   ]
  },
  {
   "cell_type": "code",
   "execution_count": null,
   "id": "2a5bfeae",
   "metadata": {},
   "outputs": [],
   "source": []
  }
 ],
 "metadata": {
  "kernelspec": {
   "display_name": "Python 3 (ipykernel)",
   "language": "python",
   "name": "python3"
  },
  "language_info": {
   "codemirror_mode": {
    "name": "ipython",
    "version": 3
   },
   "file_extension": ".py",
   "mimetype": "text/x-python",
   "name": "python",
   "nbconvert_exporter": "python",
   "pygments_lexer": "ipython3",
   "version": "3.7.9"
  }
 },
 "nbformat": 4,
 "nbformat_minor": 5
}
